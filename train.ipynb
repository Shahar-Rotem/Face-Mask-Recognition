{
 "cells": [
  {
   "cell_type": "code",
   "execution_count": 7,
   "metadata": {},
   "outputs": [],
   "source": [
    "import torch\n",
    "import torchvision\n",
    "\n",
    "import torch.nn as nn\n",
    "import torch.optim as optim\n",
    "import torch.nn.functional as F\n",
    "from torch.utils.data import DataLoader\n",
    "import torchvision.transforms as transforms\n",
    "from torch.optim import lr_scheduler\n",
    "\n",
    "import time\n",
    "from copy import deepcopy\n",
    "\n",
    "import numpy as np\n",
    "import matplotlib.pyplot as plt\n",
    "import seaborn as sns\n",
    "from sklearn.metrics import *\n",
    "\n",
    "from FaceMaskDataset import FaceMaskDataset\n",
    "from FaceMaskModel import MobileNetV3\n",
    "\n",
    "sns.set()\n"
   ]
  },
  {
   "cell_type": "code",
   "execution_count": 8,
   "metadata": {},
   "outputs": [],
   "source": [
    "def train_model(model, train_dataloader, eval_dataloaders, datasets_sizes, criterion, optimizer, device='cuda:0', num_epochs=20, print_epoch=1, scheduler=None, data_types=['train', 'test'], save_model=False):\n",
    "    start_time = time.time()\n",
    "    best_f1 = 0.0\n",
    "    best_model = deepcopy(model.state_dict())\n",
    "    \n",
    "    for epoch in range(0, num_epochs + 1):\n",
    "        start_epoch = time.time()\n",
    "        print(\"Epoch [{}/{}]\".format(str(epoch).zfill(len(str(num_epochs))), num_epochs))\n",
    "        \n",
    "        if epoch != 0:\n",
    "            model.train()\n",
    "\n",
    "            for images, labels in train_dataloader:\n",
    "                images = images.to(device)\n",
    "                labels = labels.to(device)\n",
    "\n",
    "                optimizer.zero_grad()\n",
    "\n",
    "                with torch.set_grad_enabled(True):\n",
    "                    outputs = model(images)\n",
    "                    \n",
    "                    \n",
    "                    loss = criterion(outputs, labels)\n",
    "                    \n",
    "                    loss.backward()\n",
    "                    optimizer.step()\n",
    "            if scheduler is not None:\n",
    "                scheduler.step()\n",
    "           \n",
    "        model.eval()\n",
    "        \n",
    "        for data_type in data_types:\n",
    "            epoch_loss = 0.0\n",
    "            \n",
    "            y_true = np.empty(0)\n",
    "            y_pred = np.empty(0)\n",
    "            y_score = np.empty(0)\n",
    "        \n",
    "            for _, images, labels in eval_dataloaders[data_type]:\n",
    "                y_true = np.append(y_true, labels.numpy())\n",
    "                \n",
    "                images = images.to(device)\n",
    "                labels = labels.to(device)\n",
    "                                \n",
    "                with torch.set_grad_enabled(False):\n",
    "                    outputs = model(images)\n",
    "            \n",
    "                    loss = criterion(outputs, labels)\n",
    "                \n",
    "                    scores = F.softmax(outputs, 1)[:,1]\n",
    "                    y_score = np.append(y_score, scores.to('cpu').numpy())\n",
    "                    \n",
    "                    _, pred = torch.max(outputs, 1)\n",
    "                    y_pred = np.append(y_pred, pred.to('cpu').numpy())\n",
    "                        \n",
    "                epoch_loss += loss.item() * images.size(0)\n",
    "                \n",
    "            epoch_loss = epoch_loss / datasets_sizes[data_type]\n",
    "            epoch_acc = accuracy_score(y_true, y_pred) * 100\n",
    "            epoch_p = precision_score(y_true, y_pred, zero_division=0) * 100\n",
    "            epoch_r = recall_score(y_true, y_pred, zero_division=0) * 100\n",
    "            epoch_f1 = f1_score(y_true, y_pred, average='binary', zero_division=0) * 100\n",
    "            epoch_roc_auc = roc_auc_score(y_true, y_score) * 100\n",
    "            \n",
    "            print('{} Loss: {:.4f} F1: {:2.2f} Precision: {:2.2f} Recall: {:2.2f} Accuracy: {:2.2f} ROC-AUC: {:2.2f}'.format(\n",
    "                data_type.ljust(5), epoch_loss, epoch_f1, epoch_p, epoch_r, epoch_acc, epoch_roc_auc))\n",
    "            \n",
    "            if data_type == 'test' and epoch_f1 > best_f1:\n",
    "                best_f1 = epoch_f1\n",
    "                best_model = deepcopy(model.state_dict())\n",
    "        \n",
    "        epoch_elapsed = time.time() - start_epoch\n",
    "        print('Epoch {} took {}m {:.0f}s'.format(\n",
    "        epoch, int(epoch_elapsed // 60), epoch_elapsed % 60))\n",
    "        \n",
    "        print('-' * 90)\n",
    "        \n",
    "    time_elapsed = time.time() - start_time\n",
    "    print('Training complete in {}m {:.0f}s'.format(\n",
    "    int(time_elapsed // 60), time_elapsed % 60))\n",
    "    \n",
    "    print('Best test F1: {:2f}'.format(best_f1))\n",
    "    if save_model:\n",
    "        torch.save(best_model, 'model_{:2f}.pkl'.format(best_f1))\n",
    "    model.load_state_dict(best_model)\n",
    "    return model"
   ]
  },
  {
   "cell_type": "code",
   "execution_count": 9,
   "metadata": {},
   "outputs": [],
   "source": [
    "root_dir='/StudentData/hw2_data'\n",
    "phases = ['train', 'eval']\n",
    "data_types = ['train', 'test']\n",
    "device = torch.device('cuda:0' if torch.cuda.is_available() else 'cpu')"
   ]
  },
  {
   "cell_type": "code",
   "execution_count": 10,
   "metadata": {},
   "outputs": [],
   "source": [
    "\n",
    "train_dataset = FaceMaskDataset(root_dir=f'{root_dir}/train', have_label=True, phase='train')\n",
    "eval_datasets = {data_type : FaceMaskDataset(root_dir=f'{root_dir}/{data_type}', have_label=True,  phase='eval') for data_type in data_types}\n",
    "\n",
    "datasets_sizes = {data_type : len(eval_datasets[data_type]) for data_type in data_types}"
   ]
  },
  {
   "cell_type": "code",
   "execution_count": 11,
   "metadata": {},
   "outputs": [],
   "source": [
    "batch_sizes = {\n",
    "    'train' : 128,\n",
    "    'eval' : 64\n",
    "}\n",
    "\n",
    "shuffles = {\n",
    "    'train' : True,\n",
    "    'eval' : False\n",
    "}\n",
    "\n",
    "train_dataloader = DataLoader(train_dataset, batch_sizes['train'], shuffles['train'])\n",
    "eval_dataloaders = {data_type : DataLoader(eval_datasets[data_type], batch_sizes['eval'], shuffles['eval']) for data_type in data_types}"
   ]
  },
  {
   "cell_type": "code",
   "execution_count": 12,
   "metadata": {},
   "outputs": [
    {
     "name": "stdout",
     "output_type": "stream",
     "text": [
      "Total Number of Parameters: 4.20M\n"
     ]
    }
   ],
   "source": [
    "model = MobileNetV3(n_class=2, input_size=224, dropout=0.0, mode='large', width_mult=1.0)\n",
    "model = model.to(device)\n",
    "print('Total Number of Parameters: {:.2f}M'.format(sum(param.numel() for param in model.parameters()) / 1e6))"
   ]
  },
  {
   "cell_type": "code",
   "execution_count": 13,
   "metadata": {},
   "outputs": [],
   "source": [
    "# learning_rate *= gamma every (step_size) epochs\n",
    "learning_rate = 1e-3\n",
    "step_size = 5\n",
    "gamma = 1e-1\n",
    "\n",
    "criterion = nn.CrossEntropyLoss()\n",
    "optimizer = optim.AdamW(model.parameters(), lr=learning_rate)\n",
    "scheduler = lr_scheduler.StepLR(optimizer, step_size=step_size, gamma=gamma)"
   ]
  },
  {
   "cell_type": "code",
   "execution_count": null,
   "metadata": {},
   "outputs": [
    {
     "name": "stdout",
     "output_type": "stream",
     "text": [
      "Epoch [00/20]\n"
     ]
    }
   ],
   "source": [
    "best_model = train_model(model, train_dataloader, eval_dataloaders, datasets_sizes, criterion, optimizer, device=device, scheduler=scheduler)"
   ]
  },
  {
   "cell_type": "code",
   "execution_count": null,
   "metadata": {},
   "outputs": [],
   "source": [
    "torch.save(best_model.state_dict(), \"mask_model.pt\")"
   ]
  },
  {
   "cell_type": "code",
   "execution_count": 6,
   "metadata": {},
   "outputs": [
    {
     "data": {
      "text/html": [
       "<div>\n",
       "<style scoped>\n",
       "    .dataframe tbody tr th:only-of-type {\n",
       "        vertical-align: middle;\n",
       "    }\n",
       "\n",
       "    .dataframe tbody tr th {\n",
       "        vertical-align: top;\n",
       "    }\n",
       "\n",
       "    .dataframe thead th {\n",
       "        text-align: right;\n",
       "    }\n",
       "</style>\n",
       "<table border=\"1\" class=\"dataframe\">\n",
       "  <thead>\n",
       "    <tr style=\"text-align: right;\">\n",
       "      <th></th>\n",
       "      <th>0</th>\n",
       "      <th>1</th>\n",
       "    </tr>\n",
       "  </thead>\n",
       "  <tbody>\n",
       "    <tr>\n",
       "      <th>0</th>\n",
       "      <td>025879_0.jpg</td>\n",
       "      <td>0.0</td>\n",
       "    </tr>\n",
       "    <tr>\n",
       "      <th>1</th>\n",
       "      <td>022598_1.jpg</td>\n",
       "      <td>1.0</td>\n",
       "    </tr>\n",
       "    <tr>\n",
       "      <th>2</th>\n",
       "      <td>006614_1.jpg</td>\n",
       "      <td>1.0</td>\n",
       "    </tr>\n",
       "    <tr>\n",
       "      <th>3</th>\n",
       "      <td>024296_1.jpg</td>\n",
       "      <td>1.0</td>\n",
       "    </tr>\n",
       "    <tr>\n",
       "      <th>4</th>\n",
       "      <td>023140_1.jpg</td>\n",
       "      <td>1.0</td>\n",
       "    </tr>\n",
       "    <tr>\n",
       "      <th>...</th>\n",
       "      <td>...</td>\n",
       "      <td>...</td>\n",
       "    </tr>\n",
       "    <tr>\n",
       "      <th>6081</th>\n",
       "      <td>021240_1.jpg</td>\n",
       "      <td>1.0</td>\n",
       "    </tr>\n",
       "    <tr>\n",
       "      <th>6082</th>\n",
       "      <td>010415_0.jpg</td>\n",
       "      <td>0.0</td>\n",
       "    </tr>\n",
       "    <tr>\n",
       "      <th>6083</th>\n",
       "      <td>026751_0.jpg</td>\n",
       "      <td>0.0</td>\n",
       "    </tr>\n",
       "    <tr>\n",
       "      <th>6084</th>\n",
       "      <td>011466_0.jpg</td>\n",
       "      <td>0.0</td>\n",
       "    </tr>\n",
       "    <tr>\n",
       "      <th>6085</th>\n",
       "      <td>006057_1.jpg</td>\n",
       "      <td>1.0</td>\n",
       "    </tr>\n",
       "  </tbody>\n",
       "</table>\n",
       "<p>6086 rows × 2 columns</p>\n",
       "</div>"
      ],
      "text/plain": [
       "                 0    1\n",
       "0     025879_0.jpg  0.0\n",
       "1     022598_1.jpg  1.0\n",
       "2     006614_1.jpg  1.0\n",
       "3     024296_1.jpg  1.0\n",
       "4     023140_1.jpg  1.0\n",
       "...            ...  ...\n",
       "6081  021240_1.jpg  1.0\n",
       "6082  010415_0.jpg  0.0\n",
       "6083  026751_0.jpg  0.0\n",
       "6084  011466_0.jpg  0.0\n",
       "6085  006057_1.jpg  1.0\n",
       "\n",
       "[6086 rows x 2 columns]"
      ]
     },
     "execution_count": 6,
     "metadata": {},
     "output_type": "execute_result"
    }
   ],
   "source": [
    "import pandas as pd\n",
    "\n",
    "pd.read_csv('prediction.csv', header=None)"
   ]
  },
  {
   "cell_type": "code",
   "execution_count": null,
   "metadata": {},
   "outputs": [],
   "source": []
  }
 ],
 "metadata": {
  "kernelspec": {
   "display_name": ".conda-face_mask",
   "language": "python",
   "name": "conda-env-.conda-face_mask-py"
  },
  "language_info": {
   "codemirror_mode": {
    "name": "ipython",
    "version": 3
   },
   "file_extension": ".py",
   "mimetype": "text/x-python",
   "name": "python",
   "nbconvert_exporter": "python",
   "pygments_lexer": "ipython3",
   "version": "3.7.7"
  }
 },
 "nbformat": 4,
 "nbformat_minor": 4
}
