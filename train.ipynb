{
 "cells": [
  {
   "cell_type": "code",
   "execution_count": 1,
   "metadata": {},
   "outputs": [
    {
     "name": "stderr",
     "output_type": "stream",
     "text": [
      "Matplotlib is building the font cache using fc-list. This may take a moment.\n"
     ]
    }
   ],
   "source": [
    "import torch\n",
    "import torchvision\n",
    "\n",
    "import torch.nn as nn\n",
    "import torch.optim as optim\n",
    "import torch.nn.functional as F\n",
    "from torch.utils.data import DataLoader\n",
    "import torchvision.transforms as transforms\n",
    "from torch.optim import lr_scheduler\n",
    "\n",
    "import time\n",
    "from copy import deepcopy\n",
    "\n",
    "import numpy as np\n",
    "import matplotlib.pyplot as plt\n",
    "import seaborn as sns\n",
    "from sklearn.metrics import *\n",
    "\n",
    "from FaceMaskDataset import FaceMaskDataset\n",
    "from FaceMaskModel import MobileNetV3\n",
    "\n",
    "sns.set()\n"
   ]
  },
  {
   "cell_type": "code",
   "execution_count": null,
   "metadata": {},
   "outputs": [],
   "source": [
    "def train_model(model, train_dataloader, eval_dataloaders, datasets_sizes, criterion, optimizer, device='cuda:0', num_epochs=20, print_epoch=1, scheduler=None, data_types=['train', 'test'], save_model=False):\n",
    "    start_time = time.time()\n",
    "    best_f1 = 0.0\n",
    "    best_model = deepcopy(model.state_dict())\n",
    "    \n",
    "    for epoch in range(0, num_epochs + 1):\n",
    "        start_epoch = time.time()\n",
    "        print(\"Epoch [{}/{}]\".format(str(epoch).zfill(len(str(num_epochs))), num_epochs))\n",
    "        \n",
    "        if epoch != 0:\n",
    "            model.train()\n",
    "\n",
    "            for _, images, labels in train_dataloader:\n",
    "                images = images.to(device)\n",
    "                labels = labels.to(device)\n",
    "\n",
    "                optimizer.zero_grad()\n",
    "\n",
    "                with torch.set_grad_enabled(True):\n",
    "                    outputs = model(images)\n",
    "                    \n",
    "                    loss = criterion(outputs, labels)\n",
    "                    \n",
    "                    loss.backward()\n",
    "                    optimizer.step()\n",
    "            if scheduler is not None:\n",
    "                scheduler.step()\n",
    "           \n",
    "        model.eval()\n",
    "        \n",
    "        for data_type in data_types:\n",
    "            epoch_loss = 0.0\n",
    "            \n",
    "            y_true = np.empty(0)\n",
    "            y_pred = np.empty(0)\n",
    "            y_score = np.empty(0)\n",
    "        \n",
    "            for _, images, labels in eval_dataloaders[data_type]:\n",
    "                y_true = np.append(y_true, labels.numpy())\n",
    "                \n",
    "                images = images.to(device)\n",
    "                labels = labels.to(device)\n",
    "                                \n",
    "                with torch.set_grad_enabled(False):\n",
    "                    outputs = model(images)\n",
    "            \n",
    "                    loss = criterion(outputs, labels)\n",
    "                \n",
    "                    scores = F.softmax(outputs, 1)[:,1]\n",
    "                    y_score = np.append(y_score, scores.to('cpu').numpy())\n",
    "                    \n",
    "                    _, pred = torch.max(outputs, 1)\n",
    "                    y_pred = np.append(y_pred, pred.to('cpu').numpy())\n",
    "                        \n",
    "                epoch_loss += loss.item() * images.size(0)\n",
    "                \n",
    "            epoch_loss = epoch_loss / datasets_sizes[data_type]\n",
    "            epoch_acc = accuracy_score(y_true, y_pred) * 100\n",
    "            epoch_p = precision_score(y_true, y_pred, zero_division=0) * 100\n",
    "            epoch_r = recall_score(y_true, y_pred, zero_division=0) * 100\n",
    "            epoch_f1 = f1_score(y_true, y_pred, average='binary', zero_division=0) * 100\n",
    "            epoch_roc_auc = roc_auc_score(y_true, y_score) * 100\n",
    "            \n",
    "            print('{} Loss: {:.4f} F1: {:2.2f} Precision: {:2.2f} Recall: {:2.2f} Accuracy: {:2.2f} ROC-AUC: {:2.2f}'.format(\n",
    "                data_type.ljust(5), epoch_loss, epoch_f1, epoch_p, epoch_r, epoch_acc, epoch_roc_auc))\n",
    "            \n",
    "            if data_type == 'test' and epoch_f1 > best_f1:\n",
    "                best_f1 = epoch_f1\n",
    "                best_model = deepcopy(model.state_dict())\n",
    "        \n",
    "        epoch_elapsed = time.time() - start_epoch\n",
    "        print('Epoch {} took {}m {:.0f}s'.format(\n",
    "        epoch, int(epoch_elapsed // 60), epoch_elapsed % 60))\n",
    "        \n",
    "        print('-' * 90)\n",
    "        \n",
    "    time_elapsed = time.time() - start_time\n",
    "    print('Training complete in {}m {:.0f}s'.format(\n",
    "    int(time_elapsed // 60), time_elapsed % 60))\n",
    "    \n",
    "    print('Best test F1: {:2f}'.format(best_f1))\n",
    "    if save_model:\n",
    "        torch.save(best_model, 'model_{:2f}.pkl'.format(best_f1))\n",
    "    model.load_state_dict(best_model)\n",
    "    return model"
   ]
  },
  {
   "cell_type": "code",
   "execution_count": 4,
   "metadata": {},
   "outputs": [],
   "source": [
    "root_dir='/StudentData/hw2_data'\n",
    "phases = ['train', 'eval']\n",
    "data_types = ['train', 'test']\n",
    "device = torch.device('cuda:0' if torch.cuda.is_available() else 'cpu')"
   ]
  },
  {
   "cell_type": "code",
   "execution_count": 5,
   "metadata": {},
   "outputs": [],
   "source": [
    "\n",
    "train_dataset = FaceMaskDataset(root_dir=f'{root_dir}/train', have_label=True, phase='train')\n",
    "eval_datasets = {data_type : FaceMaskDataset(root_dir=f'{root_dir}/{data_type}', have_label=True,  phase='eval') for data_type in data_types}\n",
    "\n",
    "datasets_sizes = {data_type : len(eval_datasets[data_type]) for data_type in data_types}"
   ]
  },
  {
   "cell_type": "code",
   "execution_count": 6,
   "metadata": {},
   "outputs": [],
   "source": [
    "batch_sizes = {\n",
    "    'train' : 128,\n",
    "    'eval' : 64\n",
    "}\n",
    "\n",
    "shuffles = {\n",
    "    'train' : True,\n",
    "    'eval' : False\n",
    "}\n",
    "\n",
    "train_dataloader = DataLoader(train_dataset, batch_sizes['train'], shuffles['train'])\n",
    "eval_dataloaders = {data_type : DataLoader(eval_datasets[data_type], batch_sizes['eval'], shuffles['eval']) for data_type in data_types}"
   ]
  },
  {
   "cell_type": "code",
   "execution_count": 8,
   "metadata": {},
   "outputs": [],
   "source": [
    "model = MobileNetV3(n_class=2, input_size=224, dropout=0.0, mode='large', width_mult=1.0)\n",
    "model = model.to(device)\n",
    "print('Total Number of Parameters: {:.2f}M'.format(sum(param.numel() for param in model.parameters()) / 1e6))"
   ]
  },
  {
   "cell_type": "code",
   "execution_count": 11,
   "metadata": {},
   "outputs": [],
   "source": [
    "# learning_rate *= gamma every (step_size) epochs\n",
    "learning_rate = 1e-3\n",
    "step_size = 5\n",
    "gamma = 1e-1\n",
    "\n",
    "criterion = nn.CrossEntropyLoss()\n",
    "optimizer = optim.AdamW(model.parameters(), lr=learning_rate)\n",
    "scheduler = lr_scheduler.StepLR(optimizer, step_size=step_size, gamma=gamma)"
   ]
  },
  {
   "cell_type": "code",
   "execution_count": null,
   "metadata": {},
   "outputs": [
    {
     "name": "stdout",
     "output_type": "stream",
     "text": [
      "Epoch [00/20]\n",
      "train Loss: 0.6931 F1: 45.92 Precision: 42.41 Recall: 50.06 Accuracy: 35.76 ROC-AUC: 50.00\n",
      "test  Loss: 0.6931 F1: 45.74 Precision: 42.06 Recall: 50.12 Accuracy: 35.70 ROC-AUC: 50.00\n",
      "Epoch 0 took 1m 48s\n",
      "------------------------------------------------------------------------------------------\n",
      "Epoch [01/20]\n",
      "train Loss: 0.1913 F1: 93.90 Precision: 90.83 Recall: 97.19 Accuracy: 93.12 ROC-AUC: 97.99\n",
      "test  Loss: 0.1815 F1: 94.30 Precision: 91.25 Recall: 97.57 Accuracy: 93.62 ROC-AUC: 98.19\n",
      "Epoch 1 took 4m 16s\n",
      "------------------------------------------------------------------------------------------\n",
      "Epoch [02/20]\n",
      "train Loss: 0.1577 F1: 95.15 Precision: 92.76 Recall: 97.66 Accuracy: 94.57 ROC-AUC: 98.66\n",
      "test  Loss: 0.1553 F1: 95.42 Precision: 93.07 Recall: 97.90 Accuracy: 94.92 ROC-AUC: 98.76\n",
      "Epoch 2 took 4m 16s\n",
      "------------------------------------------------------------------------------------------\n",
      "Epoch [03/20]\n",
      "train Loss: 0.1379 F1: 95.64 Precision: 95.06 Recall: 96.23 Accuracy: 95.22 ROC-AUC: 98.89\n",
      "test  Loss: 0.1437 F1: 95.56 Precision: 94.93 Recall: 96.20 Accuracy: 95.17 ROC-AUC: 98.75\n",
      "Epoch 3 took 4m 16s\n",
      "------------------------------------------------------------------------------------------\n",
      "Epoch [04/20]\n",
      "train Loss: 0.0949 F1: 97.02 Precision: 96.63 Recall: 97.41 Accuracy: 96.74 ROC-AUC: 99.44\n",
      "test  Loss: 0.0934 F1: 97.23 Precision: 96.83 Recall: 97.63 Accuracy: 96.99 ROC-AUC: 99.41\n",
      "Epoch 4 took 4m 16s\n",
      "------------------------------------------------------------------------------------------\n",
      "Epoch [05/20]\n"
     ]
    }
   ],
   "source": [
    "best_model = train_model(model, train_dataloader, eval_dataloaders, datasets_sizes, criterion, optimizer, device=device, scheduler=scheduler)"
   ]
  },
  {
   "cell_type": "code",
   "execution_count": null,
   "metadata": {},
   "outputs": [],
   "source": [
    "torch.save(best_model.state_dict(), \"mask_model.pt\")"
   ]
  },
  {
   "cell_type": "code",
   "execution_count": null,
   "metadata": {},
   "outputs": [],
   "source": []
  }
 ],
 "metadata": {
  "kernelspec": {
   "display_name": ".conda-face_mask",
   "language": "python",
   "name": "conda-env-.conda-face_mask-py"
  },
  "language_info": {
   "codemirror_mode": {
    "name": "ipython",
    "version": 3
   },
   "file_extension": ".py",
   "mimetype": "text/x-python",
   "name": "python",
   "nbconvert_exporter": "python",
   "pygments_lexer": "ipython3",
   "version": "3.7.7"
  }
 },
 "nbformat": 4,
 "nbformat_minor": 4
}